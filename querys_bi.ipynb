{
 "cells": [
  {
   "cell_type": "code",
   "execution_count": 1,
   "metadata": {},
   "outputs": [],
   "source": [
    "from os.path import abspath\n",
    "import pyspark.sql.functions as f\n",
    "from pyspark.sql import SparkSession\n",
    "from pyspark.sql import Row\n",
    "from pyspark import SparkContext, SparkConf\n",
    "import os\n",
    "import pandas as pd\n",
    "import warnings\n",
    "warnings.filterwarnings('ignore')\n",
    "\n",
    "warehouse_location = abspath('spark-warehouse')\n",
    "\n",
    "os.environ[\"JAVA_HOME\"] = r\"C:\\Program Files\\Java\\jdk-19\"\n",
    "os.environ[\"SPARK_HOME\"] = r\"C:\\databases_Etl\\venv\\Lib\\site-packages\\pyspark\"\n",
    "\n",
    "\n",
    "sqlsUrl = 'jdbc:sqlserver://177.69.132.51:1433;database=BI'\n",
    "\n",
    "table_name=\"comercial.classificacao_leads\"\n",
    "pgpassword=\"FrP!1009fT0W\"\n",
    "pgdatabase='BI'\n",
    "pguser='webapp'\n",
    "\n",
    "\n",
    "conf = SparkConf()\n",
    "conf.set(\"spark.master\",\"local[*]\")\n",
    "conf.set(\"spark.executor.memory\", \"4g\")\n",
    "conf.set(\"spark.driver.memory\", \"4g\")\n",
    "conf.set(\"spark.sql.adaptive.enabled\",\"true\")\n",
    "conf.set(\"spark.sql.adaptive.localShuffleReader.enabled\",\"true\")\n",
    "conf.set(\"spark.dynamicAllocation.enabled\", \"false\")\n",
    "conf.set(\"spark.sql.adaptive.optimizeSkewsInRebalancePartitions.enabled\",\"true\")\n",
    "conf.set(\"spark.sql.adaptive.skewJoin.enabled\",\"true\")\n",
    "conf.set(\"spark.sql.statistics.size.autoUpdate.enabled\",\"true\")\n",
    "conf.set(\"spark.sql.inMemoryColumnarStorage.compressed\",\"true\")\n",
    "conf.set(\"hive.exec.dynamic.partition\", \"true\")\n",
    "conf.set(\"hive.exec.dynamic.partition.mode\", \"nonstrict\")\n",
    "conf.set(\"spark.sql.ansi.enabled\",\"true\")\n",
    "conf.set('spark.driver.extraClassPath', r\"C:\\leads\\venv\\Lib\\site-packages\\pyspark\\mssql-jdbc-9.4.0.jre11.jar\")\n",
    "conf.set('spark.executor.extraClassPath', r\"C:\\leads\\venv\\Lib\\site-packages\\pyspark\\mssql-jdbc-9.4.0.jre11.jar\")\n",
    "spark = SparkSession.builder\\\n",
    "        .config(conf=conf)\\\n",
    "        .config(\"spark.sql.warehouse.dir\", warehouse_location)\\\n",
    "        .config(\"spark.sql.catalogImplementation\", \"hive\") \\\n",
    "        .enableHiveSupport() \\\n",
    "        .getOrCreate()"
   ]
  },
  {
   "cell_type": "code",
   "execution_count": 2,
   "metadata": {},
   "outputs": [],
   "source": [
    "jdbcDF = spark.read \\\n",
    "        .format(\"jdbc\") \\\n",
    "        .option(\"url\", sqlsUrl) \\\n",
    "        .option('driver', 'com.microsoft.sqlserver.jdbc.SQLServerDriver')\\\n",
    "        .option(\"header\", \"true\") \\\n",
    "        .option(\"inferSchema\", \"true\") \\\n",
    "        .option(\"dbtable\", table_name) \\\n",
    "        .option(\"user\", pguser) \\\n",
    "        .option(\"password\", pgpassword)\\\n",
    "        .load()"
   ]
  },
  {
   "cell_type": "code",
   "execution_count": 3,
   "metadata": {},
   "outputs": [
    {
     "name": "stdout",
     "output_type": "stream",
     "text": [
      "+--------+--------+---------+--------------------+--------------------+--------------------+--------+--------------+--------------------+--------------------+----------+----------+----------+----------+----------+----------+--------------------+--------------------+--------------------+---------------+--------------------+---------+-------------------+-------------------+-------------------+-------------------+-------------------+-------------------+-------------------+-------------------+--------------------+\n",
      "|cod_lead|ref_lead|unidadeId|                nome|         nomeContato| dataUltimaInteracao|statusId|   STATUSATUAL|            campanha|        dataCadastro|STATUSLOG2|STATUSLOG3|STATUSLOG4|STATUSLOG5|STATUSLOG6|STATUSLOG7|          STATUSLOG8|          STATUSLOG9|         STATUSLOG10|TOTALINTERACOES|      dataatualizado|numeracao|IteracoesStatusLog2|IteracoesStatusLog3|IteracoesStatusLog4|IteracoesStatusLog5|IteracoesStatusLog6|IteracoesStatusLog7|IteracoesStatusLog8|IteracoesStatusLog9|IteracoesStatusLog10|\n",
      "+--------+--------+---------+--------------------+--------------------+--------------------+--------+--------------+--------------------+--------------------+----------+----------+----------+----------+----------+----------+--------------------+--------------------+--------------------+---------------+--------------------+---------+-------------------+-------------------+-------------------+-------------------+-------------------+-------------------+-------------------+-------------------+--------------------+\n",
      "|       1|   14417|      130|   Campinas - Cambuí|               teste|2021-06-04 18:16:...|      15|     Cancelado|     Cadastro manual|2021-05-26 17:49:...|      null|      null|      null|      null|      null|      null|                null|                null|                null|            212|2023-04-02 14:19:...|     1028|               null|               null|               null|               null|               null|               null|               null|               null|                null|\n",
      "|       2|   20321|       10|   São José - ANTIGA|        TESTE 310821|2021-08-31 09:54:...|      15|     Cancelado|     Cadastro manual|2021-08-31 09:49:...|      null|      null|      null|      null|      null|      null|                null|                null|                null|            196|2023-04-02 14:19:...|      574|               null|               null|               null|               null|               null|               null|               null|               null|                null|\n",
      "|       3|   29648|       31|            Sorocaba|             Glaucia|2021-11-23 14:24:...|      15|     Cancelado|                null|2021-11-22 23:55:...|      null|      null|      null|      null|      null|      null|                null|                null|                null|            195|2023-04-02 14:19:...|      190|               null|               null|               null|               null|               null|               null|               null|               null|                null|\n",
      "|       4|   25149|       53|Campinas - Swiss ...|               Teste|2021-10-01 18:57:...|      15|     Cancelado|          VisitaLoja|2021-10-01 18:47:...|      null|      null|      null|      null|      null|      null|                null|                null|                null|            193|2023-04-02 14:19:...|       14|               null|               null|               null|               null|               null|               null|               null|               null|                null|\n",
      "|       5|   26671|       45|Curitiba - São Lo...|     Daniella Tolari|2021-11-08 12:39:...|      15|     Cancelado|            Facebook|2021-10-19 10:49:...|      null|      null|      null|      null|      null|      null|                null|                null|                null|            190|2023-04-02 14:19:...|        6|               null|               null|               null|               null|               null|               null|               null|               null|                null|\n",
      "|       6|   13074|       26|           Joinville|        Fabio Vallim|2021-04-23 15:07:...|      15|     Cancelado|     Cadastro manual|2021-04-23 13:26:...|      null|      null|      null|      null|      null|      null|                null|                null|                null|            180|2023-04-02 14:19:...|       11|               null|               null|               null|               null|               null|               null|               null|               null|                null|\n",
      "|       7|   24140|       44|         Passo Fundo| Marcio Felipe Floss|2021-10-02 09:41:...|      15|     Cancelado|Geração de Cadast...|2021-10-01 10:48:...|      null|      null|      null|      null|      null|      null|                null|                null|                null|            142|2023-04-02 14:19:...|       84|               null|               null|               null|               null|               null|               null|               null|               null|                null|\n",
      "|       8|   27832|       35|Rio de Janeiro - ...|           Bernardo |2021-11-04 21:54:...|      15|     Cancelado|                null|2021-11-04 15:55:...|      null|      null|      null|      null|      null|      null|                null|                null|                null|            138|2023-04-02 14:19:...|      112|               null|               null|               null|               null|               null|               null|               null|               null|                null|\n",
      "|       9|   41889|       76|            São Luís|     Giselle Marques|2023-01-30 10:55:...|      15|     Cancelado| ABERTURA - São Luís|2022-02-16 20:53:...|      null|      null|      null|      null|      null|      null|                null|2022-08-24 13:53:...|2022-09-14 16:51:...|             99|2023-04-02 14:19:...|       84|                 16|                 16|                 16|                 16|                 16|                 16|                 16|                 16|                  16|\n",
      "|      10|   21620|       32|   São Paulo - Mooca|           Alexandre|2021-09-21 14:12:...|      15|     Cancelado|          VisitaLoja|2021-09-09 14:19:...|      null|      null|      null|      null|      null|      null|                null|                null|                null|             89|2023-04-02 14:19:...|        6|               null|               null|               null|               null|               null|               null|               null|               null|                null|\n",
      "|      11|   34786|       72|    Lençóis Paulista|    Edilaine Pereira|2022-07-27 15:16:...|      14|    Fechamento|ABERTURA - LENÇÓI...|2022-01-12 05:24:...|      null|      null|      null|      null|      null|      null|                null|2022-05-05 10:43:...|2022-05-05 10:44:...|             71|2023-04-02 14:19:...|       17|                  9|                  9|                  9|                  9|                  9|                  9|                  9|                  9|                   9|\n",
      "|      12|   43383|       76|            São Luís| Livia Karen Ribeiro|2023-03-24 15:42:...|      21|Projeto Pronto| ABERTURA - São Luís|2022-02-28 08:47:...|      null|      null|      null|      null|      null|      null|                null|                null|                null|             70|2023-04-02 14:19:...|      150|                 21|                 21|                 21|                 21|                 21|                 21|                 21|                 21|                  21|\n",
      "|      13|   18717|       10|   São José - ANTIGA|EVERSON JOSUE DA ...|2021-12-22 01:26:...|      15|     Cancelado|     Cadastro manual|2021-07-31 10:58:...|      null|      null|      null|      null|      null|      null|                null|                null|                null|             67|2023-04-02 14:19:...|      540|               null|               null|               null|               null|               null|               null|               null|               null|                null|\n",
      "|      14|   37043|       72|    Lençóis Paulista|Maria Cristina Sa...|2022-06-28 16:56:...|      14|    Fechamento|ABERTURA - LENÇÓI...|2022-01-19 18:58:...|      null|      null|      null|      null|      null|      null|                null|                null|                null|             65|2023-04-02 14:19:...|       41|                 14|                 14|                 14|                 14|                 14|                 14|                 14|                 14|                  14|\n",
      "|      15|   22513|       31|            Sorocaba|             Mayara |2021-09-28 20:10:...|      15|     Cancelado|          VisitaLoja|2021-09-14 11:39:...|      null|      null|      null|      null|      null|      null|                null|                null|                null|             63|2023-04-02 14:19:...|       45|               null|               null|               null|               null|               null|               null|               null|               null|                null|\n",
      "|      16|   41111|       76|            São Luís|Sandra Fernandes ...|2023-01-21 11:07:...|      15|     Cancelado| ABERTURA - São Luís|2022-02-11 16:33:...|      null|      null|      null|      null|      null|      null|                null|                null|2022-04-28 09:35:...|             62|2023-04-02 14:19:...|       41|                 13|                 13|                 13|                 13|                 13|                 13|                 13|                 13|                  13|\n",
      "|      17|   49429|       82|Goiânia - Setor M...|Elisa Moreira da ...|2023-03-10 10:34:...|      14|    Fechamento|ABERTURA - GOIÂNI...|2022-03-26 18:57:...|      null|      null|      null|      null|      null|      null|                null|                null|2022-05-02 09:13:...|             61|2023-04-02 14:19:...|       52|                 14|                 14|                 14|                 14|                 14|                 14|                 14|                 14|                  14|\n",
      "|      18|   57958|       76|            São Luís|Rosa Maria Teles ...|2023-01-17 10:44:...|      15|     Cancelado| ABERTURA - São Luís|2022-05-03 18:19:...|      null|      null|      null|      null|      null|      null|2022-05-07 13:01:...|2022-05-10 10:56:...|2022-05-19 14:05:...|             61|2023-04-02 14:19:...|      500|                 11|                 11|                 11|                 11|                 11|                 11|                 11|                 11|                  11|\n",
      "|      19|   41886|       76|            São Luís|     Danyelle Santos|2022-12-07 14:33:...|      14|    Fechamento| ABERTURA - São Luís|2022-02-16 20:33:...|      null|      null|      null|      null|      null|      null|                null|                null|2022-05-16 14:28:...|             61|2023-04-02 14:19:...|       83|                 21|                 21|                 21|                 21|                 21|                 21|                 21|                 21|                  21|\n",
      "|      20|   66789|       36|           Araçatuba|             Giselle|2022-11-11 09:21:...|      15|     Cancelado|                SITE|2022-06-15 23:39:...|      null|      null|      null|      null|      null|      null|                null|                null|2022-06-17 09:04:...|             61|2023-04-02 14:19:...|      834|                 13|                 13|                 13|                 13|                 13|                 13|                 13|                 13|                  13|\n",
      "+--------+--------+---------+--------------------+--------------------+--------------------+--------+--------------+--------------------+--------------------+----------+----------+----------+----------+----------+----------+--------------------+--------------------+--------------------+---------------+--------------------+---------+-------------------+-------------------+-------------------+-------------------+-------------------+-------------------+-------------------+-------------------+--------------------+\n",
      "only showing top 20 rows\n",
      "\n"
     ]
    }
   ],
   "source": [
    "jdbcDF.show()"
   ]
  }
 ],
 "metadata": {
  "kernelspec": {
   "display_name": "venv",
   "language": "python",
   "name": "python3"
  },
  "language_info": {
   "codemirror_mode": {
    "name": "ipython",
    "version": 3
   },
   "file_extension": ".py",
   "mimetype": "text/x-python",
   "name": "python",
   "nbconvert_exporter": "python",
   "pygments_lexer": "ipython3",
   "version": "3.11.2"
  },
  "orig_nbformat": 4
 },
 "nbformat": 4,
 "nbformat_minor": 2
}
